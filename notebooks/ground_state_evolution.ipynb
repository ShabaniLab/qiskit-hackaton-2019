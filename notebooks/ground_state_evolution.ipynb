{
 "cells": [
  {
   "cell_type": "markdown",
   "metadata": {},
   "source": [
    "# Ground state evolution"
   ]
  },
  {
   "cell_type": "code",
   "execution_count": 37,
   "metadata": {},
   "outputs": [],
   "source": [
    "import numpy as np\n",
    "from qiskit.circuit import QuantumCircuit, QuantumRegister, ClassicalRegister\n",
    "from ising_kitaev import initialize_chain, trotter, rotate_to_measurement_basis, add_measurement, initialize_coupler"
   ]
  },
  {
   "cell_type": "markdown",
   "metadata": {},
   "source": [
    "## Setup"
   ]
  },
  {
   "cell_type": "markdown",
   "metadata": {},
   "source": [
    "### Parameters"
   ]
  },
  {
   "cell_type": "code",
   "execution_count": 38,
   "metadata": {},
   "outputs": [],
   "source": [
    "zeeman_ferro = 0.01\n",
    "zeeman_para = 10"
   ]
  },
  {
   "cell_type": "code",
   "execution_count": 39,
   "metadata": {},
   "outputs": [],
   "source": [
    "initial_config = np.array([zeeman_para, zeeman_ferro, zeeman_ferro, zeeman_ferro])"
   ]
  },
  {
   "cell_type": "markdown",
   "metadata": {},
   "source": [
    "### Initialize the circuit"
   ]
  },
  {
   "cell_type": "code",
   "execution_count": 40,
   "metadata": {},
   "outputs": [],
   "source": [
    "qreg = QuantumRegister(5)\n",
    "creg = ClassicalRegister(3)\n",
    "qcirc = QuantumCircuit(qreg, creg)"
   ]
  },
  {
   "cell_type": "code",
   "execution_count": 41,
   "metadata": {},
   "outputs": [
    {
     "data": {
      "text/html": [
       "<pre style=\"word-wrap: normal;white-space: pre;line-height: 15px;\">         ┌─────────────┐          \n",
       "q3_0: |0>┤      H      ├──────────\n",
       "         ├─────────────┤          \n",
       "q3_1: |0>┤ Ry(-1.5708) ├──■────■──\n",
       "         └─────────────┘┌─┴─┐  │  \n",
       "q3_2: |0>───────────────┤ X ├──┼──\n",
       "                        └───┘┌─┴─┐\n",
       "q3_3: |0>────────────────────┤ X ├\n",
       "         ┌─────────────┐     └───┘\n",
       "q3_4: |0>┤  Rx(1.5708) ├──────────\n",
       "         └─────────────┘          \n",
       " c3_0: 0 ═════════════════════════\n",
       "                                  \n",
       " c3_1: 0 ═════════════════════════\n",
       "                                  \n",
       " c3_2: 0 ═════════════════════════\n",
       "                                  </pre>"
      ],
      "text/plain": [
       "<qiskit.tools.visualization._text.TextDrawing at 0xa14c1feb8>"
      ]
     },
     "execution_count": 41,
     "metadata": {},
     "output_type": "execute_result"
    }
   ],
   "source": [
    "initialize_chain(qcirc, qreg, initial_config, 'logical_one')\n",
    "initialize_coupler(qcirc, qreg)\n",
    "qcirc.draw()"
   ]
  },
  {
   "cell_type": "markdown",
   "metadata": {},
   "source": [
    "### Time evolution"
   ]
  },
  {
   "cell_type": "code",
   "execution_count": 42,
   "metadata": {},
   "outputs": [
    {
     "data": {
      "text/html": [
       "<pre style=\"word-wrap: normal;white-space: pre;line-height: 15px;\">         ┌─────────────┐                               ┌───────────┐           »\n",
       "q3_0: |0>┤      H      ├────────────■───────────────■──┤   Rx(1)   ├───────────»\n",
       "         ├─────────────┤          ┌─┴─┐┌─────────┐┌─┴─┐└───────────┘           »\n",
       "q3_1: |0>┤ Ry(-1.5708) ├──■────■──┤ X ├┤ U1(0.1) ├┤ X ├──────■─────────────────»\n",
       "         └─────────────┘┌─┴─┐  │  └───┘└─────────┘└───┘┌─────┴─────┐┌─────────┐»\n",
       "q3_2: |0>───────────────┤ X ├──┼────■───────────────■──┤     X     ├┤ U1(0.1) ├»\n",
       "                        └───┘┌─┴─┐┌─┴─┐┌─────────┐┌─┴─┐├───────────┤└─────────┘»\n",
       "q3_3: |0>────────────────────┤ X ├┤ X ├┤ U1(0.1) ├┤ X ├┤ Rx(0.001) ├───────────»\n",
       "         ┌─────────────┐┌───┐└───┘└───┘└─────────┘└───┘└───────────┘           »\n",
       "q3_4: |0>┤  Rx(1.5708) ├┤ H ├──────────────────────────────────────────────────»\n",
       "         └─────────────┘└───┘                                                  »\n",
       " c3_0: 0 ══════════════════════════════════════════════════════════════════════»\n",
       "                                                                               »\n",
       " c3_1: 0 ══════════════════════════════════════════════════════════════════════»\n",
       "                                                                               »\n",
       " c3_2: 0 ══════════════════════════════════════════════════════════════════════»\n",
       "                                                                               »\n",
       "«                                                        \n",
       "«q3_0: ──────────────────────────────────────────────────\n",
       "«           ┌───────────┐┌───┐                      ┌───┐\n",
       "«q3_1: ──■──┤ Rx(0.001) ├┤ X ├──■────────────────■──┤ X ├\n",
       "«      ┌─┴─┐├───────────┤└─┬─┘  │                │  └─┬─┘\n",
       "«q3_2: ┤ X ├┤ Rx(0.001) ├──■────┼────────────────┼────■──\n",
       "«      └───┘└───────────┘       │                │       \n",
       "«q3_3: ─────────────────────────┼────────────────┼───────\n",
       "«                             ┌─┴─┐┌──────────┐┌─┴─┐┌───┐\n",
       "«q3_4: ───────────────────────┤ X ├┤ Rz(0.14) ├┤ X ├┤ H ├\n",
       "«                             └───┘└──────────┘└───┘└───┘\n",
       "«c3_0: ══════════════════════════════════════════════════\n",
       "«                                                        \n",
       "«c3_1: ══════════════════════════════════════════════════\n",
       "«                                                        \n",
       "«c3_2: ══════════════════════════════════════════════════\n",
       "«                                                        </pre>"
      ],
      "text/plain": [
       "<qiskit.tools.visualization._text.TextDrawing at 0xa14c1f470>"
      ]
     },
     "execution_count": 42,
     "metadata": {},
     "output_type": "execute_result"
    }
   ],
   "source": [
    "trotter(qcirc, qreg, initial_config, 1.4, 0.1, 1)\n",
    "qcirc.draw()"
   ]
  },
  {
   "cell_type": "code",
   "execution_count": 43,
   "metadata": {},
   "outputs": [],
   "source": [
    "trotter(qcirc, qreg, initial_config, 0.0, 0.1, 1)"
   ]
  },
  {
   "cell_type": "markdown",
   "metadata": {},
   "source": [
    "### Measurement"
   ]
  },
  {
   "cell_type": "code",
   "execution_count": 44,
   "metadata": {},
   "outputs": [
    {
     "data": {
      "text/html": [
       "<pre style=\"word-wrap: normal;white-space: pre;line-height: 15px;\">         ┌─────────────┐                               ┌───────────┐           »\n",
       "q3_0: |0>┤      H      ├────────────■───────────────■──┤   Rx(1)   ├───────────»\n",
       "         ├─────────────┤          ┌─┴─┐┌─────────┐┌─┴─┐└───────────┘           »\n",
       "q3_1: |0>┤ Ry(-1.5708) ├──■────■──┤ X ├┤ U1(0.1) ├┤ X ├──────■─────────────────»\n",
       "         └─────────────┘┌─┴─┐  │  └───┘└─────────┘└───┘┌─────┴─────┐┌─────────┐»\n",
       "q3_2: |0>───────────────┤ X ├──┼────■───────────────■──┤     X     ├┤ U1(0.1) ├»\n",
       "                        └───┘┌─┴─┐┌─┴─┐┌─────────┐┌─┴─┐├───────────┤└─────────┘»\n",
       "q3_3: |0>────────────────────┤ X ├┤ X ├┤ U1(0.1) ├┤ X ├┤ Rx(0.001) ├───────────»\n",
       "         ┌─────────────┐┌───┐└───┘└───┘└─────────┘└───┘└───────────┘           »\n",
       "q3_4: |0>┤  Rx(1.5708) ├┤ H ├──────────────────────────────────────────────────»\n",
       "         └─────────────┘└───┘                                                  »\n",
       " c3_0: 0 ══════════════════════════════════════════════════════════════════════»\n",
       "                                                                               »\n",
       " c3_1: 0 ══════════════════════════════════════════════════════════════════════»\n",
       "                                                                               »\n",
       " c3_2: 0 ══════════════════════════════════════════════════════════════════════»\n",
       "                                                                               »\n",
       "«                                                                             »\n",
       "«q3_0: ────────────────────────────────────────────────────■───────────────■──»\n",
       "«           ┌───────────┐┌───┐                      ┌───┐┌─┴─┐┌─────────┐┌─┴─┐»\n",
       "«q3_1: ──■──┤ Rx(0.001) ├┤ X ├──■────────────────■──┤ X ├┤ X ├┤ U1(0.1) ├┤ X ├»\n",
       "«      ┌─┴─┐├───────────┤└─┬─┘  │                │  └─┬─┘└───┘└─────────┘└───┘»\n",
       "«q3_2: ┤ X ├┤ Rx(0.001) ├──■────┼────────────────┼────■────■───────────────■──»\n",
       "«      └───┘└───────────┘       │                │       ┌─┴─┐┌─────────┐┌─┴─┐»\n",
       "«q3_3: ─────────────────────────┼────────────────┼───────┤ X ├┤ U1(0.1) ├┤ X ├»\n",
       "«                             ┌─┴─┐┌──────────┐┌─┴─┐┌───┐└───┘└─────────┘└───┘»\n",
       "«q3_4: ───────────────────────┤ X ├┤ Rz(0.14) ├┤ X ├┤ H ├─────────────────────»\n",
       "«                             └───┘└──────────┘└───┘└───┘                     »\n",
       "«c3_0: ═══════════════════════════════════════════════════════════════════════»\n",
       "«                                                                             »\n",
       "«c3_1: ═══════════════════════════════════════════════════════════════════════»\n",
       "«                                                                             »\n",
       "«c3_2: ═══════════════════════════════════════════════════════════════════════»\n",
       "«                                                                             »\n",
       "«      ┌───────────┐                                             ░           \n",
       "«q3_0: ┤   Rx(1)   ├─────────────────────────────────────────────░───────────\n",
       "«      └───────────┘                ┌───────────┐          ┌───┐ ░ ┌─┐       \n",
       "«q3_1: ──────■───────────────────■──┤ Rx(0.001) ├──■────■──┤ H ├─░─┤M├───────\n",
       "«      ┌─────┴─────┐┌─────────┐┌─┴─┐├───────────┤  │  ┌─┴─┐└───┘ ░ └╥┘┌─┐    \n",
       "«q3_2: ┤     X     ├┤ U1(0.1) ├┤ X ├┤ Rx(0.001) ├──┼──┤ X ├──────░──╫─┤M├────\n",
       "«      ├───────────┤└─────────┘└───┘└───────────┘┌─┴─┐└───┘      ░  ║ └╥┘┌─┐ \n",
       "«q3_3: ┤ Rx(0.001) ├─────────────────────────────┤ X ├───────────░──╫──╫─┤M├─\n",
       "«      └───────────┘                             └───┘           ░  ║  ║ └╥┘ \n",
       "«q3_4: ──────────────────────────────────────────────────────────░──╫──╫──╫──\n",
       "«                                                                ░  ║  ║  ║  \n",
       "«c3_0: ═════════════════════════════════════════════════════════════╩══╬══╬══\n",
       "«                                                                      ║  ║  \n",
       "«c3_1: ════════════════════════════════════════════════════════════════╩══╬══\n",
       "«                                                                         ║  \n",
       "«c3_2: ═══════════════════════════════════════════════════════════════════╩══\n",
       "«                                                                            </pre>"
      ],
      "text/plain": [
       "<qiskit.tools.visualization._text.TextDrawing at 0xa14c2df28>"
      ]
     },
     "execution_count": 44,
     "metadata": {},
     "output_type": "execute_result"
    }
   ],
   "source": [
    "rotate_to_measurement_basis(qcirc, qreg, [1, 2, 3])\n",
    "add_measurement(qcirc, qreg, creg, [1, 2, 3])\n",
    "qcirc.draw()"
   ]
  },
  {
   "cell_type": "markdown",
   "metadata": {},
   "source": [
    "## Run the simulation"
   ]
  },
  {
   "cell_type": "code",
   "execution_count": 45,
   "metadata": {},
   "outputs": [],
   "source": [
    "from qiskit import Aer, execute"
   ]
  },
  {
   "cell_type": "code",
   "execution_count": 46,
   "metadata": {},
   "outputs": [],
   "source": [
    "backend = Aer.get_backend('qasm_simulator')\n",
    "job = execute(qcirc, backend, shots=2000)"
   ]
  },
  {
   "cell_type": "code",
   "execution_count": 47,
   "metadata": {},
   "outputs": [
    {
     "data": {
      "text/plain": [
       "<JobStatus.DONE: 'job has successfully run'>"
      ]
     },
     "execution_count": 47,
     "metadata": {},
     "output_type": "execute_result"
    }
   ],
   "source": [
    "job.status()"
   ]
  },
  {
   "cell_type": "code",
   "execution_count": 48,
   "metadata": {},
   "outputs": [
    {
     "name": "stdout",
     "output_type": "stream",
     "text": [
      "{'000': 20, '001': 1980}\n"
     ]
    }
   ],
   "source": [
    "result = job.result()\n",
    "print(result.get_counts())"
   ]
  },
  {
   "cell_type": "code",
   "execution_count": null,
   "metadata": {},
   "outputs": [],
   "source": []
  }
 ],
 "metadata": {
  "kernelspec": {
   "display_name": "Python 3",
   "language": "python",
   "name": "python3"
  },
  "language_info": {
   "codemirror_mode": {
    "name": "ipython",
    "version": 3
   },
   "file_extension": ".py",
   "mimetype": "text/x-python",
   "name": "python",
   "nbconvert_exporter": "python",
   "pygments_lexer": "ipython3",
   "version": "3.6.8"
  }
 },
 "nbformat": 4,
 "nbformat_minor": 2
}
