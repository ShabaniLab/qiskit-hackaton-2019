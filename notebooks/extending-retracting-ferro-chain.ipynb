{
 "cells": [
  {
   "cell_type": "markdown",
   "metadata": {},
   "source": [
    "# Extending-retracting adiabatically a ferromagnetic domain "
   ]
  },
  {
   "cell_type": "code",
   "execution_count": 1,
   "metadata": {},
   "outputs": [],
   "source": [
    "import numpy as np\n",
    "from qiskit.circuit import QuantumCircuit, QuantumRegister, ClassicalRegister\n",
    "from ising_kitaev import initialize_chain, move_chain, rotate_to_measurement_basis, add_measurement"
   ]
  },
  {
   "cell_type": "markdown",
   "metadata": {},
   "source": [
    "## Setup"
   ]
  },
  {
   "cell_type": "markdown",
   "metadata": {},
   "source": [
    "### Parameters"
   ]
  },
  {
   "cell_type": "code",
   "execution_count": 2,
   "metadata": {},
   "outputs": [],
   "source": [
    "zeeman_ferro = 0.01\n",
    "zeeman_para = 10"
   ]
  },
  {
   "cell_type": "code",
   "execution_count": 3,
   "metadata": {},
   "outputs": [],
   "source": [
    "initial_config = np.array([zeeman_ferro, zeeman_ferro, zeeman_ferro, zeeman_para])\n",
    "final_config = np.array([zeeman_para, zeeman_ferro, zeeman_ferro, zeeman_ferro])"
   ]
  },
  {
   "cell_type": "markdown",
   "metadata": {},
   "source": [
    "### Initialize the circuit"
   ]
  },
  {
   "cell_type": "code",
   "execution_count": 4,
   "metadata": {},
   "outputs": [],
   "source": [
    "qreg = QuantumRegister(4)\n",
    "creg = ClassicalRegister(3)\n",
    "qcirc = QuantumCircuit(qreg, creg)"
   ]
  },
  {
   "cell_type": "code",
   "execution_count": 5,
   "metadata": {
    "scrolled": true
   },
   "outputs": [
    {
     "data": {
      "text/html": [
       "<pre style=\"word-wrap: normal;white-space: pre;line-height: 15px;\">         ┌─────────────┐          \n",
       "q0_0: |0>┤ Ry(-1.5708) ├──■────■──\n",
       "         └─────────────┘┌─┴─┐  │  \n",
       "q0_1: |0>───────────────┤ X ├──┼──\n",
       "                        └───┘┌─┴─┐\n",
       "q0_2: |0>────────────────────┤ X ├\n",
       "         ┌─────────────┐     └───┘\n",
       "q0_3: |0>┤      H      ├──────────\n",
       "         └─────────────┘          \n",
       " c0_0: 0 ═════════════════════════\n",
       "                                  \n",
       " c0_1: 0 ═════════════════════════\n",
       "                                  \n",
       " c0_2: 0 ═════════════════════════\n",
       "                                  </pre>"
      ],
      "text/plain": [
       "<qiskit.tools.visualization._text.TextDrawing at 0x11d811518>"
      ]
     },
     "execution_count": 5,
     "metadata": {},
     "output_type": "execute_result"
    }
   ],
   "source": [
    "initialize_chain(qcirc, qreg, initial_config, 'logical_one')\n",
    "qcirc.draw()"
   ]
  },
  {
   "cell_type": "markdown",
   "metadata": {},
   "source": [
    "### Move the chain by one site"
   ]
  },
  {
   "cell_type": "markdown",
   "metadata": {},
   "source": [
    "We evolve the Zeeman slowly and in between each update of the Zeeman we run the dynamic of the chain using trotter for t such that J*t = 1"
   ]
  },
  {
   "cell_type": "code",
   "execution_count": 6,
   "metadata": {},
   "outputs": [
    {
     "data": {
      "text/plain": [
       "2873"
      ]
     },
     "execution_count": 6,
     "metadata": {},
     "output_type": "execute_result"
    }
   ],
   "source": [
    "move_chain(qcirc, qreg, initial_config, final_config, 0, 0.25, 0.25, 1, 5, method='single')\n",
    "qcirc.depth()"
   ]
  },
  {
   "cell_type": "markdown",
   "metadata": {},
   "source": [
    "### Add the measurement"
   ]
  },
  {
   "cell_type": "code",
   "execution_count": 7,
   "metadata": {},
   "outputs": [],
   "source": [
    "rotate_to_measurement_basis(qcirc, qreg, [1, 2, 3])\n",
    "add_measurement(qcirc, qreg, creg, [1, 2, 3])"
   ]
  },
  {
   "cell_type": "markdown",
   "metadata": {},
   "source": [
    "## Run the simulation"
   ]
  },
  {
   "cell_type": "code",
   "execution_count": 8,
   "metadata": {},
   "outputs": [],
   "source": [
    "from qiskit import Aer, execute"
   ]
  },
  {
   "cell_type": "code",
   "execution_count": 9,
   "metadata": {},
   "outputs": [],
   "source": [
    "backend = Aer.get_backend('qasm_simulator')\n",
    "job = execute(qcirc, backend, shots=2000)"
   ]
  },
  {
   "cell_type": "code",
   "execution_count": 10,
   "metadata": {},
   "outputs": [
    {
     "data": {
      "text/plain": [
       "<JobStatus.RUNNING: 'job is actively running'>"
      ]
     },
     "execution_count": 10,
     "metadata": {},
     "output_type": "execute_result"
    }
   ],
   "source": [
    "job.status()"
   ]
  },
  {
   "cell_type": "code",
   "execution_count": 11,
   "metadata": {},
   "outputs": [
    {
     "name": "stdout",
     "output_type": "stream",
     "text": [
      "{'000': 31, '101': 29, '111': 4, '001': 1936}\n"
     ]
    }
   ],
   "source": [
    "result = job.result()\n",
    "print(result.get_counts())"
   ]
  }
 ],
 "metadata": {
  "kernelspec": {
   "display_name": "Python 3",
   "language": "python",
   "name": "python3"
  },
  "language_info": {
   "codemirror_mode": {
    "name": "ipython",
    "version": 3
   },
   "file_extension": ".py",
   "mimetype": "text/x-python",
   "name": "python",
   "nbconvert_exporter": "python",
   "pygments_lexer": "ipython3",
   "version": "3.6.8"
  }
 },
 "nbformat": 4,
 "nbformat_minor": 2
}
