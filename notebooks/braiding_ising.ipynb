{
 "cells": [
  {
   "cell_type": "markdown",
   "metadata": {},
   "source": [
    "# Braiding on an Ising chain\n",
    "\n",
    "We perform braiding on the Ising in the following manner:\n",
    "- first we initialize the coupler by application of an Rx(π/2) gate, and the ferro magnetic chain in $|\\uparrow\\uparrow\\uparrow\\rangle$ (ie $|000\\rangle$)\n",
    "- next we adiabatically transfer the ferro portion from the left hand side to the right hand-side of the coupler\n",
    "- next we apply a Ry(π) pulse on the coupler and transfer the chain back\n",
    "- at the end of the procedure we expect to bet in the $|\\downarrow\\downarrow\\downarrow\\rangle$ (ie $|111\\rangle$)"
   ]
  },
  {
   "cell_type": "code",
   "execution_count": 259,
   "metadata": {},
   "outputs": [],
   "source": [
    "import numpy as np\n",
    "from qiskit.circuit import QuantumCircuit, QuantumRegister, ClassicalRegister\n",
    "from ising_kitaev import initialize_chain, braid_chain, rotate_to_measurement_basis, add_measurement, initialize_coupler"
   ]
  },
  {
   "cell_type": "markdown",
   "metadata": {},
   "source": [
    "## Setup"
   ]
  },
  {
   "cell_type": "markdown",
   "metadata": {},
   "source": [
    "### Parameters\n",
    "\n",
    "We consider a chain with 12 sites and 1 coupler. The 3 leftmost sites start in a ferromagnetic state."
   ]
  },
  {
   "cell_type": "code",
   "execution_count": 260,
   "metadata": {},
   "outputs": [],
   "source": [
    "zeeman_ferro = 0.01\n",
    "zeeman_para = 10"
   ]
  },
  {
   "cell_type": "code",
   "execution_count": 261,
   "metadata": {},
   "outputs": [],
   "source": [
    "initial_config = np.array([zeeman_ferro]*3 + [zeeman_para]*9)"
   ]
  },
  {
   "cell_type": "markdown",
   "metadata": {},
   "source": [
    "### Initialize the circuit\n",
    "\n",
    "We initialize the system in $|\\uparrow\\uparrow\\uparrow\\rangle$ (ie $|000\\rangle$) since the braiding will induce a phase gate in the logical space defined by:\n",
    "\n",
    "\\begin{align}\n",
    "|0\\rangle = \\frac{|\\uparrow\\uparrow\\uparrow\\rangle + |\\downarrow\\downarrow\\downarrow\\rangle}{\\sqrt{2}}\\qquad\n",
    "|1\\rangle = \\frac{|\\uparrow\\uparrow\\uparrow\\rangle - |\\downarrow\\downarrow\\downarrow\\rangle}{\\sqrt{2}}\n",
    "\\end{align}"
   ]
  },
  {
   "cell_type": "code",
   "execution_count": 262,
   "metadata": {},
   "outputs": [],
   "source": [
    "qreg = QuantumRegister(13)\n",
    "creg = ClassicalRegister(3)\n",
    "qcirc = QuantumCircuit(qreg, creg)"
   ]
  },
  {
   "cell_type": "code",
   "execution_count": 263,
   "metadata": {},
   "outputs": [
    {
     "data": {
      "text/html": [
       "<pre style=\"word-wrap: normal;white-space: pre;line-height: 15px;\">                         \n",
       " q24_0: |0>──────────────\n",
       "                         \n",
       " q24_1: |0>──────────────\n",
       "                         \n",
       " q24_2: |0>──────────────\n",
       "           ┌────────────┐\n",
       " q24_3: |0>┤     H      ├\n",
       "           ├────────────┤\n",
       " q24_4: |0>┤     H      ├\n",
       "           ├────────────┤\n",
       " q24_5: |0>┤     H      ├\n",
       "           ├────────────┤\n",
       " q24_6: |0>┤     H      ├\n",
       "           ├────────────┤\n",
       " q24_7: |0>┤     H      ├\n",
       "           ├────────────┤\n",
       " q24_8: |0>┤     H      ├\n",
       "           ├────────────┤\n",
       " q24_9: |0>┤     H      ├\n",
       "           ├────────────┤\n",
       "q24_10: |0>┤     H      ├\n",
       "           ├────────────┤\n",
       "q24_11: |0>┤     H      ├\n",
       "           ├────────────┤\n",
       "q24_12: |0>┤ Rx(1.5708) ├\n",
       "           └────────────┘\n",
       "  c24_0: 0 ══════════════\n",
       "                         \n",
       "  c24_1: 0 ══════════════\n",
       "                         \n",
       "  c24_2: 0 ══════════════\n",
       "                         </pre>"
      ],
      "text/plain": [
       "<qiskit.tools.visualization._text.TextDrawing at 0xa8ae36080>"
      ]
     },
     "execution_count": 263,
     "metadata": {},
     "output_type": "execute_result"
    }
   ],
   "source": [
    "initialize_chain(qcirc, qreg, initial_config, 'up')\n",
    "initialize_coupler(qcirc, qreg)\n",
    "qcirc.draw()"
   ]
  },
  {
   "cell_type": "markdown",
   "metadata": {},
   "source": [
    "### Braid the chain"
   ]
  },
  {
   "cell_type": "markdown",
   "metadata": {},
   "source": [
    "We evolve the Zeeman slowly and in between each update of the Zeeman we run the dynamic of the chain using Suzuki-Trotter decomposition for t such that J*t = 1"
   ]
  },
  {
   "cell_type": "code",
   "execution_count": 264,
   "metadata": {},
   "outputs": [
    {
     "data": {
      "text/plain": [
       "137281"
      ]
     },
     "execution_count": 264,
     "metadata": {},
     "output_type": "execute_result"
    }
   ],
   "source": [
    "braid_chain(qcirc, qreg, np.pi, 40, initial_config, 1.4, 0.25, 0.25, 2, 40, method='both')\n",
    "qcirc.depth()"
   ]
  },
  {
   "cell_type": "markdown",
   "metadata": {},
   "source": [
    "### Add the measurement"
   ]
  },
  {
   "cell_type": "code",
   "execution_count": 265,
   "metadata": {},
   "outputs": [],
   "source": [
    "add_measurement(qcirc, qreg, creg, [0, 1, 2])"
   ]
  },
  {
   "cell_type": "markdown",
   "metadata": {},
   "source": [
    "## Run the simulation"
   ]
  },
  {
   "cell_type": "code",
   "execution_count": 266,
   "metadata": {},
   "outputs": [],
   "source": [
    "from qiskit import Aer, execute"
   ]
  },
  {
   "cell_type": "code",
   "execution_count": 267,
   "metadata": {},
   "outputs": [],
   "source": [
    "backend = Aer.get_backend('qasm_simulator')\n",
    "job = execute(qcirc, backend, shots=2000)"
   ]
  },
  {
   "cell_type": "code",
   "execution_count": 268,
   "metadata": {},
   "outputs": [
    {
     "data": {
      "text/plain": [
       "<JobStatus.RUNNING: 'job is actively running'>"
      ]
     },
     "execution_count": 268,
     "metadata": {},
     "output_type": "execute_result"
    }
   ],
   "source": [
    "job.status()"
   ]
  },
  {
   "cell_type": "markdown",
   "metadata": {},
   "source": [
    "At the end of the procedure we observe a transfer in $|\\downarrow\\downarrow\\downarrow\\rangle$ (ie $|111\\rangle$) with a probability exiding 75\\%.\n",
    "\n",
    "It should be noted that the transfer probability is sensitivitive to the choice of the evolution of the system."
   ]
  },
  {
   "cell_type": "code",
   "execution_count": 269,
   "metadata": {},
   "outputs": [
    {
     "name": "stdout",
     "output_type": "stream",
     "text": [
      "{'000': 213, '100': 7, '110': 6, '011': 18, '001': 2, '111': 1754}\n"
     ]
    }
   ],
   "source": [
    "result = job.result()\n",
    "print(result.get_counts())"
   ]
  }
 ],
 "metadata": {
  "kernelspec": {
   "display_name": "Python 3",
   "language": "python",
   "name": "python3"
  },
  "language_info": {
   "codemirror_mode": {
    "name": "ipython",
    "version": 3
   },
   "file_extension": ".py",
   "mimetype": "text/x-python",
   "name": "python",
   "nbconvert_exporter": "python",
   "pygments_lexer": "ipython3",
   "version": "3.6.8"
  }
 },
 "nbformat": 4,
 "nbformat_minor": 2
}
