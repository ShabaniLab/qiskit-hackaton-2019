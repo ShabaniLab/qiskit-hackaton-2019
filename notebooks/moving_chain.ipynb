{
 "cells": [
  {
   "cell_type": "markdown",
   "metadata": {},
   "source": [
    "# Moving adiabatically a ferromagnetic domain "
   ]
  },
  {
   "cell_type": "markdown",
   "metadata": {},
   "source": [
    "Here we consider moving a ferromagnetic chain occupying 3 sites of 4 sites chain form the left most position to the right most position. Contrary to what we do in the extending-retracting notebook, here we apply the adiabatic transformation resulting in the ferromagnetic area diaplcement to both end of the chain at the same time:\n",
    "- we increase the Zeeman field on the first site to turn it in a paramagnetic site\n",
    "- we decrease the Zeeman field on the last site to turn it in a ferromagnetic site"
   ]
  },
  {
   "cell_type": "code",
   "execution_count": 23,
   "metadata": {},
   "outputs": [],
   "source": [
    "import numpy as np\n",
    "from qiskit.circuit import QuantumCircuit, QuantumRegister, ClassicalRegister\n",
    "from ising_kitaev import initialize_chain, move_chain, rotate_to_measurement_basis, add_measurement"
   ]
  },
  {
   "cell_type": "markdown",
   "metadata": {},
   "source": [
    "## Setup"
   ]
  },
  {
   "cell_type": "markdown",
   "metadata": {},
   "source": [
    "### Parameters\n",
    "\n",
    "Here we define the strength of the on-site Zeeman for the ferromagnetic region and the paramagnetic region. Next we define the initially applied fields and the one in the final state."
   ]
  },
  {
   "cell_type": "code",
   "execution_count": 24,
   "metadata": {},
   "outputs": [],
   "source": [
    "zeeman_ferro = 0.01\n",
    "zeeman_para = 10"
   ]
  },
  {
   "cell_type": "code",
   "execution_count": 25,
   "metadata": {},
   "outputs": [],
   "source": [
    "initial_config = np.array([zeeman_ferro, zeeman_ferro, zeeman_ferro, zeeman_para])\n",
    "final_config = np.array([zeeman_para, zeeman_ferro, zeeman_ferro, zeeman_ferro])"
   ]
  },
  {
   "cell_type": "markdown",
   "metadata": {},
   "source": [
    "### Initialize the circuit"
   ]
  },
  {
   "cell_type": "code",
   "execution_count": 26,
   "metadata": {},
   "outputs": [],
   "source": [
    "qreg = QuantumRegister(4)\n",
    "creg = ClassicalRegister(3)\n",
    "qcirc = QuantumCircuit(qreg, creg)"
   ]
  },
  {
   "cell_type": "code",
   "execution_count": 27,
   "metadata": {},
   "outputs": [
    {
     "data": {
      "text/html": [
       "<pre style=\"word-wrap: normal;white-space: pre;line-height: 15px;\">         ┌─────────────┐          \n",
       "q2_0: |0>┤ Ry(-1.5708) ├──■────■──\n",
       "         └─────────────┘┌─┴─┐  │  \n",
       "q2_1: |0>───────────────┤ X ├──┼──\n",
       "                        └───┘┌─┴─┐\n",
       "q2_2: |0>────────────────────┤ X ├\n",
       "         ┌─────────────┐     └───┘\n",
       "q2_3: |0>┤      H      ├──────────\n",
       "         └─────────────┘          \n",
       " c2_0: 0 ═════════════════════════\n",
       "                                  \n",
       " c2_1: 0 ═════════════════════════\n",
       "                                  \n",
       " c2_2: 0 ═════════════════════════\n",
       "                                  </pre>"
      ],
      "text/plain": [
       "<qiskit.tools.visualization._text.TextDrawing at 0x10d5b5630>"
      ]
     },
     "execution_count": 27,
     "metadata": {},
     "output_type": "execute_result"
    }
   ],
   "source": [
    "initialize_chain(qcirc, qreg, initial_config, 'logical_one')\n",
    "qcirc.draw()"
   ]
  },
  {
   "cell_type": "markdown",
   "metadata": {},
   "source": [
    "### Move the chain by one site"
   ]
  },
  {
   "cell_type": "markdown",
   "metadata": {},
   "source": [
    "We evolve the Zeeman slowly and in between each update of the Zeeman we run the dynamic of the chain using Suzuki-Trotter expansion for t such that J*t = 1"
   ]
  },
  {
   "cell_type": "code",
   "execution_count": 28,
   "metadata": {},
   "outputs": [
    {
     "data": {
      "text/plain": [
       "1438"
      ]
     },
     "execution_count": 28,
     "metadata": {},
     "output_type": "execute_result"
    }
   ],
   "source": [
    "move_chain(qcirc, qreg, initial_config, final_config, 0, 0.25, 0.25, 1, 5, method='both')\n",
    "qcirc.depth()"
   ]
  },
  {
   "cell_type": "markdown",
   "metadata": {},
   "source": [
    "### Add the measurement\n",
    "\n",
    "Before measuring we perform a change a basis to measure in the logical basis for the ferromagnetic chain (see README)"
   ]
  },
  {
   "cell_type": "code",
   "execution_count": 29,
   "metadata": {},
   "outputs": [],
   "source": [
    "rotate_to_measurement_basis(qcirc, qreg, [1, 2, 3])\n",
    "add_measurement(qcirc, qreg, creg, [1, 2, 3])"
   ]
  },
  {
   "cell_type": "markdown",
   "metadata": {},
   "source": [
    "## Run the simulation\n",
    "\n",
    "We run the simulation on the simulator since even in this case the depth of the circuit is already large."
   ]
  },
  {
   "cell_type": "code",
   "execution_count": 30,
   "metadata": {},
   "outputs": [],
   "source": [
    "from qiskit import Aer, execute"
   ]
  },
  {
   "cell_type": "code",
   "execution_count": 31,
   "metadata": {},
   "outputs": [],
   "source": [
    "backend = Aer.get_backend('qasm_simulator')\n",
    "job = execute(qcirc, backend, shots=2000)"
   ]
  },
  {
   "cell_type": "code",
   "execution_count": 32,
   "metadata": {},
   "outputs": [
    {
     "data": {
      "text/plain": [
       "<JobStatus.DONE: 'job has successfully run'>"
      ]
     },
     "execution_count": 32,
     "metadata": {},
     "output_type": "execute_result"
    }
   ],
   "source": [
    "job.status()"
   ]
  },
  {
   "cell_type": "markdown",
   "metadata": {},
   "source": [
    "We observe that we efficiently transferred our original state to the three site on the right with minimal leakage even though we use a coarse evolution description."
   ]
  },
  {
   "cell_type": "code",
   "execution_count": 33,
   "metadata": {},
   "outputs": [
    {
     "name": "stdout",
     "output_type": "stream",
     "text": [
      "{'000': 21, '001': 1956, '101': 23}\n"
     ]
    }
   ],
   "source": [
    "result = job.result()\n",
    "print(result.get_counts())"
   ]
  }
 ],
 "metadata": {
  "kernelspec": {
   "display_name": "Python 3",
   "language": "python",
   "name": "python3"
  },
  "language_info": {
   "codemirror_mode": {
    "name": "ipython",
    "version": 3
   },
   "file_extension": ".py",
   "mimetype": "text/x-python",
   "name": "python",
   "nbconvert_exporter": "python",
   "pygments_lexer": "ipython3",
   "version": "3.6.8"
  }
 },
 "nbformat": 4,
 "nbformat_minor": 2
}
